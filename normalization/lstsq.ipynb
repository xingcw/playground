{
 "cells": [
  {
   "cell_type": "code",
   "execution_count": 54,
   "metadata": {},
   "outputs": [],
   "source": [
    "import numpy as np\n",
    "import matplotlib.pyplot as plt"
   ]
  },
  {
   "cell_type": "code",
   "execution_count": 55,
   "metadata": {},
   "outputs": [],
   "source": [
    "y_k = np.array([0, 0.36, 0.38, 1.23, 1.67, 2.27, 2.19, 3.19, 3.38, 5.05, 6.61])\n",
    "u_k = np.array([0, 1, 1, 1, 1, 0.5, 0.5, 0, 0, -1, 0])"
   ]
  },
  {
   "cell_type": "code",
   "execution_count": 56,
   "metadata": {},
   "outputs": [],
   "source": [
    "A = np.vstack([y_k[:-1], u_k[:-1]]).T\n",
    "b = y_k[1:]"
   ]
  },
  {
   "cell_type": "code",
   "execution_count": 57,
   "metadata": {},
   "outputs": [],
   "source": [
    "params = np.linalg.lstsq(A, b, rcond=None)[0]"
   ]
  },
  {
   "cell_type": "code",
   "execution_count": 58,
   "metadata": {},
   "outputs": [
    {
     "data": {
      "text/plain": [
       "(2,)"
      ]
     },
     "execution_count": 58,
     "metadata": {},
     "output_type": "execute_result"
    }
   ],
   "source": [
    "params.shape"
   ]
  },
  {
   "cell_type": "code",
   "execution_count": 62,
   "metadata": {},
   "outputs": [],
   "source": [
    "def plot_dynamics(x_0, u_k, y_k, params):\n",
    "\n",
    "    # x_k+1 = a*x_k + b*u_k\n",
    "    # y_k = x_k + w_k\n",
    "    # plot the states, given the dynamics and the inputs\n",
    "\n",
    "    x = x_0\n",
    "    for i, (u, y) in enumerate(zip(u_k, y_k)):\n",
    "        y_hat = x\n",
    "        # plt.plot(i, x, '-o')\n",
    "        plt.plot(i, y_hat, 'o')\n",
    "        plt.plot(i, y, 'x')\n",
    "        x = np.dot(np.array([x, u]), params)\n",
    "\n",
    "    plt.show()"
   ]
  },
  {
   "cell_type": "code",
   "execution_count": 63,
   "metadata": {},
   "outputs": [
    {
     "data": {
      "image/png": "[encoded data removed]",
      "text/plain": [
       "<Figure size 640x480 with 1 Axes>"
      ]
     },
     "metadata": {},
     "output_type": "display_data"
    }
   ],
   "source": [
    "plot_dynamics(0.0, u_k, y_k, params)"
   ]
  },
  {
   "cell_type": "code",
   "execution_count": 64,
   "metadata": {},
   "outputs": [],
   "source": [
    "y_k_squared = y_k ** 2\n",
    "A_prime = np.stack([y_k[:-1], y_k_squared[:-1], u_k[:-1]]).T\n",
    "\n",
    "params_prime = np.linalg.lstsq(A_prime, b, rcond=None)[0]"
   ]
  },
  {
   "cell_type": "code",
   "execution_count": 65,
   "metadata": {},
   "outputs": [
    {
     "data": {
      "text/plain": [
       "array([0.93952071, 0.09352249, 0.42754227])"
      ]
     },
     "execution_count": 65,
     "metadata": {},
     "output_type": "execute_result"
    }
   ],
   "source": [
    "params_prime"
   ]
  },
  {
   "cell_type": "code",
   "execution_count": 74,
   "metadata": {},
   "outputs": [
    {
     "data": {
      "image/png": "[encoded data removed]",
      "text/plain": [
       "<Figure size 640x480 with 1 Axes>"
      ]
     },
     "metadata": {},
     "output_type": "display_data"
    }
   ],
   "source": [
    "x = 0.0\n",
    "\n",
    "for i, (u, y) in enumerate(zip(u_k, y_k)):\n",
    "    y_hat = x\n",
    "    # plt.plot(i, x, '-o')\n",
    "    plt.plot(i, y_hat, 'o')\n",
    "    plt.plot(i, y, 'x')\n",
    "    x = np.dot(np.array([y_hat, y_hat**2, u]), params_prime)\n",
    "\n",
    "plt.show()"
   ]
  },
  {
   "cell_type": "code",
   "execution_count": 75,
   "metadata": {},
   "outputs": [],
   "source": [
    "A = np.array([[-1, -1, 3], [2, -2, -2], [-1, -1, -3]]) / 6.0"
   ]
  },
  {
   "cell_type": "code",
   "execution_count": 88,
   "metadata": {},
   "outputs": [],
   "source": [
    "l, u = np.linalg.eig(A @ A.T)"
   ]
  },
  {
   "cell_type": "code",
   "execution_count": 89,
   "metadata": {},
   "outputs": [],
   "source": [
    "m, v = np.linalg.eig(A.T @ A)"
   ]
  },
  {
   "cell_type": "code",
   "execution_count": 90,
   "metadata": {},
   "outputs": [
    {
     "name": "stdout",
     "output_type": "stream",
     "text": [
      "[0.66666667 0.11111111 0.16666667] [0.66666667 0.11111111 0.16666667]\n"
     ]
    }
   ],
   "source": [
    "print(l, m)"
   ]
  },
  {
   "cell_type": "code",
   "execution_count": 91,
   "metadata": {},
   "outputs": [
    {
     "data": {
      "text/plain": [
       "array([[ 0.16666667,  0.16666667, -0.5       ],\n",
       "       [-0.33333333,  0.33333333,  0.33333333],\n",
       "       [ 0.16666667,  0.16666667,  0.5       ]])"
      ]
     },
     "execution_count": 91,
     "metadata": {},
     "output_type": "execute_result"
    }
   ],
   "source": [
    "u @ np.diag(np.sqrt(l)) @ v.T"
   ]
  },
  {
   "cell_type": "code",
   "execution_count": 92,
   "metadata": {},
   "outputs": [
    {
     "name": "stdout",
     "output_type": "stream",
     "text": [
      "[[-5.77350269e-01  7.07106781e-01 -4.08248290e-01]\n",
      " [ 5.77350269e-01 -1.45757506e-15 -8.16496581e-01]\n",
      " [ 5.77350269e-01  7.07106781e-01  4.08248290e-01]] [[-2.35702260e-01  7.07106781e-01  6.66666667e-01]\n",
      " [ 2.35702260e-01  7.07106781e-01 -6.66666667e-01]\n",
      " [ 9.42809042e-01 -1.04170206e-16  3.33333333e-01]]\n"
     ]
    }
   ],
   "source": [
    "print(u, v)"
   ]
  },
  {
   "cell_type": "code",
   "execution_count": 93,
   "metadata": {},
   "outputs": [
    {
     "data": {
      "text/plain": [
       "array([[ 8.16496581e-01,  5.00000000e-01,  2.88675135e-01],\n",
       "       [ 3.28435362e-16,  5.00000000e-01, -8.66025404e-01],\n",
       "       [-5.77350269e-01,  7.07106781e-01,  4.08248290e-01]])"
      ]
     },
     "execution_count": 93,
     "metadata": {},
     "output_type": "execute_result"
    }
   ],
   "source": [
    "v.T @ u"
   ]
  },
  {
   "cell_type": "code",
   "execution_count": 99,
   "metadata": {},
   "outputs": [],
   "source": [
    "s, p = np.linalg.eig(A)"
   ]
  },
  {
   "cell_type": "code",
   "execution_count": 103,
   "metadata": {},
   "outputs": [
    {
     "data": {
      "text/plain": [
       "array([-0.16666667+0.372678j, -0.16666667-0.372678j,\n",
       "       -0.66666667+0.j      ])"
      ]
     },
     "execution_count": 103,
     "metadata": {},
     "output_type": "execute_result"
    }
   ],
   "source": [
    "s"
   ]
  },
  {
   "cell_type": "code",
   "execution_count": null,
   "metadata": {},
   "outputs": [],
   "source": []
  }
 ],
 "metadata": {
  "kernelspec": {
   "display_name": "test",
   "language": "python",
   "name": "python3"
  },
  "language_info": {
   "codemirror_mode": {
    "name": "ipython",
    "version": 3
   },
   "file_extension": ".py",
   "mimetype": "text/x-python",
   "name": "python",
   "nbconvert_exporter": "python",
   "pygments_lexer": "ipython3",
   "version": "3.8.19"
  }
 },
 "nbformat": 4,
 "nbformat_minor": 2
}
